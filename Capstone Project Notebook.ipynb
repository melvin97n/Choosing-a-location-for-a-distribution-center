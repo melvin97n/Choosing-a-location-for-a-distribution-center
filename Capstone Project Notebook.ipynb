{
 "cells": [
  {
   "cell_type": "markdown",
   "metadata": {
    "collapsed": true
   },
   "source": [
    "# Capstone Project \n",
    "## Choosing a location for a distribution center for a food supplier to maximize business."
   ]
  },
  {
   "cell_type": "markdown",
   "metadata": {},
   "source": [
    "This notebook is to be used for the capstone project for the course \"Applied Data Science Capstone\" by IBM on Coursera."
   ]
  },
  {
   "cell_type": "markdown",
   "metadata": {},
   "source": [
    "### Introduction"
   ]
  },
  {
   "cell_type": "markdown",
   "metadata": {},
   "source": [
    "In this project I aim to find location co-ordinates for a distribution center for a food supplier to maximize business.We choose the city of New York  to set up a distribution centre for a food supplier which is expanding. The limitation of each distribution center is that we have a maximum radius for distribution of 4km. So our goal is to choose a location which would give the outreach."
   ]
  },
  {
   "cell_type": "markdown",
   "metadata": {},
   "source": [
    "A good solution to this problem would help many distributers to select an optimum location for its center which would in turn help reduce the transportation costs which is an important consideration for any supply chain. This method can not only be used for distribution centers but also various links in any supply chain for a range of industries.\n"
   ]
  },
  {
   "cell_type": "markdown",
   "metadata": {},
   "source": [
    "The only constraint considered in this problem is the range of the distribution centre. The quantity supplied, the number of supermarkets, the scale of each supermarket etc aren't considered taking into consideration the scope of our project. All of this can be added in a later project which can be applied to real world scenarios."
   ]
  },
  {
   "cell_type": "code",
   "execution_count": null,
   "metadata": {},
   "outputs": [],
   "source": []
  }
 ],
 "metadata": {
  "kernelspec": {
   "display_name": "Python 3.5",
   "language": "python",
   "name": "python3"
  },
  "language_info": {
   "codemirror_mode": {
    "name": "ipython",
    "version": 3
   },
   "file_extension": ".py",
   "mimetype": "text/x-python",
   "name": "python",
   "nbconvert_exporter": "python",
   "pygments_lexer": "ipython3",
   "version": "3.5.5"
  }
 },
 "nbformat": 4,
 "nbformat_minor": 1
}
